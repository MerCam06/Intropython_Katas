{
 "cells": [
  {
   "cell_type": "markdown",
   "metadata": {},
   "source": [
    "# LISTAS"
   ]
  },
  {
   "cell_type": "code",
   "execution_count": null,
   "metadata": {},
   "outputs": [],
   "source": [
    "planets = ['Mercury', 'Venus', 'Earth', 'Mars', 'Jupiter', 'Saturn', 'Uranus', 'Neptune'] #Esta es una lista de elementos\n",
    "#Poner un elemento de una lista poniendo el entre [] el numero después del nombre de lista. Se comienza desde 0\n",
    "print('The first planet is', planets[0])\n",
    "print('The second planet is', planets[1])\n",
    "print('The third planet is', planets[2])"
   ]
  },
  {
   "cell_type": "code",
   "execution_count": null,
   "metadata": {},
   "outputs": [],
   "source": [
    "#puedes modificar los valores de una lista. Lo hacemos asignando un nuevo valor, de la misma manera que asignaría un valor a una variable. \n",
    "planets[3] = 'Red Planet' #nombre de la lista[No. de posicion en la lista]= el nuevo nobre que le quiero dar\n",
    "print('Mars is also known as', planets[3])"
   ]
  },
  {
   "cell_type": "code",
   "execution_count": null,
   "metadata": {},
   "outputs": [],
   "source": [
    "planets[3] = 'Red Planet'\n",
    "print(planets[3])"
   ]
  },
  {
   "cell_type": "code",
   "execution_count": null,
   "metadata": {},
   "outputs": [],
   "source": [
    "#longitud de una lista, utilice la función integrada (len)\n",
    "numero_a_calcular = len(planets) #lista donde se hace el conteo=len(nombre de la lista)\n",
    "print('There are', numero_a_calcular, 'planets in the solar system.') #no olvidar separar con comas"
   ]
  },
  {
   "cell_type": "code",
   "execution_count": null,
   "metadata": {},
   "outputs": [],
   "source": [
    "#Agregar un elemento a una lista, utilice el método .append(value).\n",
    "#el código siguiente agrega la cadena 'Pluto al final de la lista planets:\n",
    "planets.append('Pluto')     #nombreDeLaLista.append(\"caracter que se agrega a la lista\")\n",
    "number_of_planets = len(planets)\n",
    "print('There are actually', number_of_planets, 'planets in the solar system.')"
   ]
  },
  {
   "cell_type": "code",
   "execution_count": null,
   "metadata": {},
   "outputs": [],
   "source": [
    "planets.append('Pluto')\n",
    "\n",
    "print('There are actually', len(planets), 'planets in the solar system.')\n",
    "#sale que son 10 porque volvi a agregar el de pluto"
   ]
  },
  {
   "cell_type": "code",
   "execution_count": null,
   "metadata": {},
   "outputs": [],
   "source": [
    "#eliminar el último elemento de una lista llamando al método .pop() de la variable de lista:\n",
    "planets.pop()  #NombreDeLaListaDeLaQueQuieroQuitarElUltimoElemento.pop()\n",
    "number_of_planets = len(planets)\n",
    "print('No, there are definitely', number_of_planets, 'planets in the solar system.')"
   ]
  },
  {
   "cell_type": "code",
   "execution_count": null,
   "metadata": {},
   "outputs": [],
   "source": [
    "#Los índices negativos comienzan al final de la lista y trabajan hacia atrás.\n",
    "\n",
    "#Indice de -1 devuelve el último elemento de una lista. Un índice de -2 el penúltimo.\n",
    "print('The last planet is', planets[-1])  #print(\"texto\", NombreDeLaLista[No.negativo])\n",
    "print('The penultimate planet is', planets[-2])"
   ]
  },
  {
   "cell_type": "code",
   "execution_count": null,
   "metadata": {},
   "outputs": [],
   "source": [
    "#Para encontrar en qué posicion de una lista se almacena un valor, utilizamos el método index(). busca el valor y devuelve el índice de ese elemento en la lista \n",
    "jupiter_index = planets.index('Jupiter')  #nombreDeVariable=NombreDeLaLista.inditex(\"Nombre del caracter ha encontrar\")\n",
    "print('Jupiter is the', jupiter_index + 1, 'planet from the sun') #No olvidar (print) para poder verlo"
   ]
  },
  {
   "cell_type": "markdown",
   "metadata": {},
   "source": [
    "Almacenar numeros en listas"
   ]
  },
  {
   "cell_type": "code",
   "execution_count": null,
   "metadata": {},
   "outputs": [],
   "source": [
    "#almacenar números con decimales  utilizamos el tipo float. Para crear un float, introduzca el número con el decimal y asígnelo a una variable:\n",
    "gravity_on_earth = 1.0\n",
    "gravity_on_the_moon = 0.166"
   ]
  },
  {
   "cell_type": "code",
   "execution_count": null,
   "metadata": {},
   "outputs": [],
   "source": [
    "#Lista que muestra las fuerzas gravitacionales de los ocho planetas del sistema solar, en G:\n",
    "\n",
    "gravity_on_planets = [0.378, 0.907, 1, 0.379, 2.36, 0.916, 0.889, 1.12]\n",
    "#En esta lista, gravity_on_planets[0] está la gravedad en Mercurio (0.378 G), gravity_on_planets[1] es la gravedad en Venus (0.907 G), y así sucesivamente."
   ]
  },
  {
   "cell_type": "code",
   "execution_count": null,
   "metadata": {},
   "outputs": [],
   "source": [
    "#autobús de dos pisos pesa 12,650 kilogramos (kg), que es 12.65 toneladas. En Mercurio, donde la gravedad es de 0,378 G, el mismo autobús pesa 12.65 toneladas multiplicadas por 0.378. En Python, para multiplicar dos valores, se utiliza el símbolo *.\n",
    "#Puedes calcular el peso de un bus de dos pisos en diferentes planetas obteniendo el valor de la lista:\n",
    "\n",
    "gravity_on_planets = [0.378, 0.907, 1, 0.379, 2.36, 0.916, 0.889, 1.12]\n",
    "bus_peso = 12650 \n",
    "\n",
    "print('On Earth, a double-decker bus weighs', bus_peso, 'kg')\n",
    "print('On Mercury, a double-decker bus weighs', bus_peso * gravity_on_planets[0], 'kg')"
   ]
  },
  {
   "cell_type": "code",
   "execution_count": null,
   "metadata": {},
   "outputs": [],
   "source": [
    "#La función max() devuelve el número más grande y la función min() devuelve el más pequeño. \n",
    "# Así que \n",
    "min(gravity_on_planets) #devuelve el número más pequeño de la lista, gravity_on_planets que es 0.378 (Mercurio)."
   ]
  },
  {
   "cell_type": "code",
   "execution_count": null,
   "metadata": {},
   "outputs": [],
   "source": [
    "bus_peso = 12650 \n",
    "\n",
    "print('On Earth, a double-decker bus weighs', bus_peso, 'kg')\n",
    "print('The lightest a bus would be in the solar system is', bus_peso * min(gravity_on_planets), 'kg')\n",
    "print('The heaviest a bus would be in the solar system is', bus_peso * max(gravity_on_planets), 'kg')"
   ]
  },
  {
   "cell_type": "code",
   "execution_count": null,
   "metadata": {},
   "outputs": [],
   "source": [
    "#Cuando se utiliza slice, se crea una nueva lista que comienza en el índice inicial y que termina antes (y no incluye) el índice final.\n",
    "#Para obtener los planetas antes que la Tierra, use un slice para obtener elementos que comienzan en 0 y terminan en 2:\n",
    "planets = ['Mercury', 'Venus', 'Earth', 'Mars', 'Jupiter', 'Saturn', 'Uranus', 'Neptune']\n",
    "planets_before_earth = planets[0:2]\n",
    "print(planets_before_earth)"
   ]
  },
  {
   "cell_type": "code",
   "execution_count": null,
   "metadata": {},
   "outputs": [],
   "source": [
    "#obtener todos los planetas después de la Tierra, comenzamos en el tercero y vamos al octavo:\n",
    "planets_after_earth = planets[3:8]  #Como puse el 8 aqui si va tocar al ultimo planeta porque debemos recordar que empieza en 0\n",
    "print(planets_after_earth) "
   ]
  },
  {
   "cell_type": "code",
   "execution_count": null,
   "metadata": {},
   "outputs": [],
   "source": [
    "#Si no coloca el índice de detención en el slice (elultimo numero), Python asume que deseas ir al final de la lista:\n",
    "planets_after_earth = planets[3:]\n",
    "print(planets_after_earth)"
   ]
  },
  {
   "cell_type": "code",
   "execution_count": null,
   "metadata": {},
   "outputs": [],
   "source": [
    "#Para unir dos listas, utilice el operador (+) con dos listas para devolver una nueva lista\n",
    "uno_group = ['Metis', 'Adrastea', 'Amalthea', 'Thebe']\n",
    "dos_moons = ['Io', 'Europa', 'Ganymede', 'Callisto']\n",
    "\n",
    "regular_satellite_moons = uno_group + dos_moons #Aqui estamos juntando las listas\n",
    "print('The regular satellite moons of Jupiter are', regular_satellite_moons) #Para verlas juntas ponemos (print), la parte roja solo es texto complementario"
   ]
  },
  {
   "cell_type": "code",
   "execution_count": null,
   "metadata": {},
   "outputs": [],
   "source": [
    "# ordenar una lista, utilizamos el método sort() de la lista\n",
    "regular_satellite_moons.sort()  #nombreDeLaLista.sort()\n",
    "print(\"The regular satellite moons of Jupiter are\", regular_satellite_moons) #ponemos (print) para poder ver el resultado"
   ]
  },
  {
   "cell_type": "code",
   "execution_count": null,
   "metadata": {},
   "outputs": [],
   "source": [
    "#Ordenar en reversa\n",
    "#llamamos al método .sort(reverse=True) de la lista:\n",
    "\n",
    "regular_satellite_moons.sort(reverse=True)    #nombreDeLaLista.sort(reverse=True)\n",
    "print(\"The regular satellite moons of Jupiter are\", regular_satellite_moons) #ponemos (print)para poder ver el resultado"
   ]
  },
  {
   "cell_type": "markdown",
   "metadata": {},
   "source": [
    "## Ejercicio 1: Usar listas para almacenar nombres de planetas\n",
    "Las listas permiten almacenar varios valores en una sola variable. Comenzarás un proyecto sobre información planetaria creando una lista de planetas."
   ]
  },
  {
   "cell_type": "code",
   "execution_count": null,
   "metadata": {},
   "outputs": [],
   "source": [
    "# Creamos la lista planets y la mostramos (sin pluton)\n",
    "planets = ['Mercury', 'Venus', 'Earth', 'Mars', 'Jupiter', 'Saturn', 'Uranus', 'Neptune']\n"
   ]
  },
  {
   "cell_type": "code",
   "execution_count": null,
   "metadata": {},
   "outputs": [],
   "source": [
    "# Agregamos a plutón y mostramos el último elemento\n",
    "\n",
    "planets.append('plutón')     #nombreDeLaLista.append(\"caracter que se agrega a la lista\")\n",
    "\n",
    "print('The last planet is', planets[-1])\n"
   ]
  },
  {
   "cell_type": "markdown",
   "metadata": {},
   "source": [
    "## Ejercicio 2: Trabajando con datos de una lista\n",
    "\n",
    "### Usar slices para recuperar partes de una lista\n",
    "Es posible que debas trabajar con diferentes secciones de una lista. En nuestro ejemplo, queremos mostrar planetas más cerca y más lejos del sol de un planeta que el usuario ingresa por teclado.\n",
    "\n",
    "Comienza agregando el código para crear una lista con los planetas."
   ]
  },
  {
   "cell_type": "code",
   "execution_count": null,
   "metadata": {},
   "outputs": [],
   "source": [
    "# Lista de planetas\n",
    "planets = ['Mercury', 'Venus', 'Earth', 'Mars', 'Jupiter', 'Saturn', 'Neptune']"
   ]
  },
  {
   "cell_type": "code",
   "execution_count": 8,
   "metadata": {},
   "outputs": [
    {
     "name": "stdout",
     "output_type": "stream",
     "text": [
      "\n",
      "Ingrese un planeta dentro de nuestro sistema solar\n",
      "¡Encontramos  !\n"
     ]
    }
   ],
   "source": [
    "planeta = input(\"Nombre de un planeta\").title()\n",
    "planetatitle = planeta.title()\n",
    "\n",
    "planet_index  =  - 1 \n",
    "while  planet_index  == \"done\":\n",
    "     planet  =  str ( input ( \"Ingrese un planeta para buscar en la base de datos (en mayúsculas): \" ))\n",
    "     planet_index  =  planets. index ( planeta ) if  planet  in  planets  else  - 1 \n",
    "if  planet_index  ==  - 1 : print ( \"Ingrese un planeta dentro de nuestro sistema solar\")\n",
    "print (f\"¡Encontramos { planeta } !\" )\n"
   ]
  },
  {
   "cell_type": "code",
   "execution_count": 20,
   "metadata": {},
   "outputs": [
    {
     "name": "stdout",
     "output_type": "stream",
     "text": [
      "\n",
      "Ingrese un planeta dentro de nuestro sistema solar\n",
      "Los planetas más cercanos \n",
      "['Mercury', 'Venus', 'Earth', 'Mars', 'Jupiter', 'Saturn', 'Neptune']\n"
     ]
    }
   ],
   "source": [
    "#Busca el planeta en la lista\n",
    "user_planet = input('Please enter the name of the planet (with a capital letter to start)')\n",
    "print(f\"{user_planet}\")\n",
    "\n",
    "# Muestra los planetas más cercanos al sol\n",
    "planet_index  =  - 1 \n",
    "while  planet_index  == \"done\":\n",
    "     planet  =  str ( input ( \"Ingrese un planeta para buscar en la base de datos (en mayúsculas): \" ))\n",
    "     planet_index  =  planets. index ( planeta ) if  planet  in  planets  else  - 1 \n",
    "if  planet_index  ==  - 1 : print ( \"Ingrese un planeta dentro de nuestro sistema solar\")\n",
    "\n",
    "\n",
    "print('Los planetas más cercanos ' + planet)\n",
    "print(planets[planet_index + 1:])"
   ]
  }
 ],
 "metadata": {
  "interpreter": {
   "hash": "2be5faf79681da6f2a61fdfdd5405d65d042280f7fba6178067603e3a2925119"
  },
  "kernelspec": {
   "display_name": "Python 3.10.2 64-bit",
   "language": "python",
   "name": "python3"
  },
  "language_info": {
   "codemirror_mode": {
    "name": "ipython",
    "version": 3
   },
   "file_extension": ".py",
   "mimetype": "text/x-python",
   "name": "python",
   "nbconvert_exporter": "python",
   "pygments_lexer": "ipython3",
   "version": "3.10.2"
  },
  "orig_nbformat": 4
 },
 "nbformat": 4,
 "nbformat_minor": 2
}
