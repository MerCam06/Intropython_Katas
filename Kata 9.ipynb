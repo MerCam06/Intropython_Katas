{
 "cells": [
  {
   "cell_type": "markdown",
   "metadata": {},
   "source": [
    "# Funciones de python"
   ]
  },
  {
   "cell_type": "code",
   "execution_count": null,
   "metadata": {},
   "outputs": [],
   "source": [
    "#Crear una función, utilizamos la palabra def, seguida de un nombre, paréntesis y, después, del cuerpo con el código de función:\n",
    "def rocket_parts():\n",
    "    print('payload, propellant, structure')\n",
    "    \n",
    "#rocket_parts es el nombre de la función. Ese nombre va seguido de paréntesis vacíos, que indican que no se necesitan argumentos. El último es el código, con sangría de cuatro espacios."
   ]
  },
  {
   "cell_type": "code",
   "execution_count": null,
   "metadata": {},
   "outputs": [],
   "source": [
    "# Para trabajar con la función, debes llamarla por su nombre usando paréntesis:\n",
    "\n",
    "# Llamo a mi función\n",
    "def rocket_parts():\n",
    "    print('payload, propellant, structure')\n",
    "    \n",
    ">>> rocket_parts()\n",
    "'payload, propellant, structure'\n",
    "\n",
    ">>> output = rocket_parts()\n",
    "payload, propellant, structure\n",
    "\n",
    ">>> output is None\n",
    "True"
   ]
  },
  {
   "cell_type": "code",
   "execution_count": null,
   "metadata": {},
   "outputs": [],
   "source": [
    "#función integrada que requiere un argumento es any(). Esta función toma un objeto iterable (por ejemplo, una lista) y devuelve True si algún elemento del objeto iterable es True. De lo contrario, devuelve False.\n",
    "\n",
    ">>> any([True, False, False])\n",
    "True\n",
    ">>> any([False, False, False])\n",
    "False"
   ]
  },
  {
   "cell_type": "code",
   "execution_count": null,
   "metadata": {},
   "outputs": [],
   "source": [
    "#Si llamamos a any() sin ningún argumento, se genera una excepción útil. El mensaje de error explica que necesita al menos un argumento:\n",
    "\n",
    ">>> any()\n",
    "Traceback (most recent call last):\n",
    "  File '<stdin>', line 1, in <module>\n",
    "TypeError: any() takes exactly one argument (0 given)"
   ]
  },
  {
   "cell_type": "code",
   "execution_count": null,
   "metadata": {},
   "outputs": [],
   "source": [
    "#Las entradas obligatorias se denominan argumentos para la función.\n",
    "#Para requerir un argumento, agrégalo entre paréntesis:\n",
    "\n",
    "def distance_from_earth(destination):\n",
    "    if destination == 'Moon':\n",
    "        return '238,855'\n",
    "    else:\n",
    "        return 'Unable to compute to that destination'"
   ]
  },
  {
   "cell_type": "code",
   "execution_count": null,
   "metadata": {},
   "outputs": [],
   "source": [
    "#Use la Luna como entrada para obtener una respuesta:\n",
    "\n",
    ">>> distance_from_earth('Moon')\n",
    "'238,855'\n",
    "#Dado que hay una condición catch-all, intenta usar cualquier otra cadena como destino para comprobar ese comportamiento:\n",
    "\n",
    ">>> distance_from_earth('Saturn')\n",
    "'Unable to compute to that destination'"
   ]
  },
  {
   "cell_type": "code",
   "execution_count": null,
   "metadata": {},
   "outputs": [],
   "source": [
    "#Para usar varios argumentos, debes separarlos con una coma\n",
    "def days_to_complete(distance, speed):\n",
    "    hours = distance/speed\n",
    "    return hours/24\n",
    "#Ahora usa la distancia entre la Tierra y la Luna para calcular cuántos días tardaría en llegar a la Luna con un límite de velocidad común de 120 kilómetros por hora:\n",
    "\n",
    ">>> days_to_complete(238855, 75)\n",
    "132.69722222222222"
   ]
  },
  {
   "cell_type": "markdown",
   "metadata": {},
   "source": [
    "## Ejercicio\n",
    "### Ejercicio 1: Trabajar con argumentos en funciones\n",
    "Construirás un informe de combustible que requiere información de varias ubicaciones de combustible en todo el cohete.\n",
    "Comienza por crear una función que necesite tres lecturas de combustible y devuelva un informe:"
   ]
  },
  {
   "cell_type": "code",
   "execution_count": 17,
   "metadata": {},
   "outputs": [],
   "source": [
    "# Función para leer 3 tanques de combustible y muestre el promedio\n",
    "def generar_informe(uno_tank, dos_tank, tres_tank):\n",
    "    total_combustible = (uno_tank + dos_tank + tres_tank) / 3\n",
    "    return f\"\"\"Combustible Report:\n",
    "    Total Average: {total_combustible}%\n",
    "    Uno tank: {uno_tank}%\n",
    "    Dos tank: {dos_tank}%\n",
    "    Tres tank: {tres_tank}% \n",
    "    \"\"\""
   ]
  },
  {
   "cell_type": "code",
   "execution_count": 18,
   "metadata": {},
   "outputs": [
    {
     "name": "stdout",
     "output_type": "stream",
     "text": [
      "Combustible Report:\n",
      "    Total Average: 26.666666666666668%\n",
      "    Uno tank: 15%\n",
      "    Dos tank: 30%\n",
      "    Tres tank: 35% \n",
      "    \n"
     ]
    }
   ],
   "source": [
    "# Llamamos a la función que genera el reporte print(funcion(tanque1, tanque2, tanque3))\n",
    "print(generar_informe(15, 30, 35))"
   ]
  },
  {
   "cell_type": "code",
   "execution_count": 14,
   "metadata": {},
   "outputs": [],
   "source": [
    "# Función promedio \n",
    "def average(evalu):\n",
    "    total = sum(evalu)\n",
    "    numero_elementos = len(evalu)\n",
    "    return total / numero_elementos\n",
    " "
   ]
  },
  {
   "cell_type": "code",
   "execution_count": 16,
   "metadata": {},
   "outputs": [
    {
     "name": "stdout",
     "output_type": "stream",
     "text": [
      "Combustible Informe:\n",
      "    Total Promedio: 31.333333333333332%\n",
      "    Uno tank: 18%\n",
      "    Dos tank: 36%\n",
      "    Tres tank: 40% \n",
      "    \n"
     ]
    }
   ],
   "source": [
    "# Actualiza la función\n",
    "def generar_informe(uno_tank, dos_tank, tres_tank):\n",
    "    return f\"\"\"Combustible Informe:\n",
    "    Total Promedio: {average([uno_tank, dos_tank, tres_tank])}%\n",
    "    Uno tank: {uno_tank}%\n",
    "    Dos tank: {dos_tank}%\n",
    "    Tres tank: {tres_tank}% \n",
    "    \"\"\"\n",
    "# Call the updated function again with different values\n",
    "print(generar_informe(18, 36, 40))"
   ]
  },
  {
   "cell_type": "markdown",
   "metadata": {},
   "source": [
    "## Ejercicio 2\n",
    "construirás un informe de cohete que requiere varias piezas de información, como el tiempo hasta el destino, el combustible a la izquierda y el nombre del destino. Comienza por crear una función que creará un informe preciso de la misión:"
   ]
  },
  {
   "cell_type": "code",
   "execution_count": 19,
   "metadata": {},
   "outputs": [
    {
     "name": "stdout",
     "output_type": "stream",
     "text": [
      "\n",
      "    Mision a la Luna\n",
      "    Total travel time: 90 minutes\n",
      "    Total de combustible: 220000 galones\n",
      "    \n"
     ]
    }
   ],
   "source": [
    "# Función con un informe preciso de la misión. Considera hora de prelanzamiento, tiempo de vuelo, destino, tanque externo y tanque interno\n",
    "\n",
    "def mission_report(pre_launch_time, flight_time, destination, external_tank, main_tank):\n",
    "    return f\"\"\"\n",
    "    Mision a la {destination}\n",
    "    Total travel time: {pre_launch_time + flight_time} minutes\n",
    "    Total de combustible: {external_tank + main_tank} galones\n",
    "    \"\"\"\n",
    "\n",
    "print(mission_report(10, 80, \"Luna\", 100000, 120000))"
   ]
  },
  {
   "cell_type": "markdown",
   "metadata": {},
   "source": [
    "La función es problemática porque no se puede adaptar para minutos adicionales o tanques adicionales de combustible. Hazlo más flexible permitiendo cualquier número de pasos basados en el tiempo y cualquier número de tanques. En lugar de usar `*args` y `**kwargs`, aprovecha el hecho de que puedes usar cualquier nombre que desees. Asegurate que la función sea más legible mediante el uso de nombres de variables que están asociados con las entradas, como `*minutes` y `**fuel_reservoirs`:"
   ]
  },
  {
   "cell_type": "code",
   "execution_count": 27,
   "metadata": {},
   "outputs": [
    {
     "name": "stdout",
     "output_type": "stream",
     "text": [
      "\n",
      "    Mision a la Luna\n",
      "    Total travel time: 90 minutes\n",
      "    Total de comsbustible: 130000\n",
      "    \n"
     ]
    }
   ],
   "source": [
    "# Escribe tu nueva función de reporte considerando lo anterior\n",
    "\n",
    "def mission_report(destino, *minutes, **fuel_reservoirs):\n",
    "    return f\"\"\"\n",
    "    Mision a la {destino}\n",
    "    Total travel time: {sum(minutes)} minutes\n",
    "    Total de comsbustible: {sum(fuel_reservoirs.values())}\n",
    "    \"\"\"\n",
    "\n",
    "print(mission_report(\"Luna\", 10, 15, 65, inter=120000, externo=10000))"
   ]
  },
  {
   "cell_type": "code",
   "execution_count": 25,
   "metadata": {},
   "outputs": [
    {
     "name": "stdout",
     "output_type": "stream",
     "text": [
      "\n",
      "    Mision a la Luna\n",
      "    Total travel time: 88 minutes\n",
      "    Total de combustible : 220000\n",
      "    interno tank --> 120000 galones restantes\n",
      "externo tank --> 100000 galones restantes\n",
      "\n"
     ]
    }
   ],
   "source": [
    "#Debido a que el combustible que queda en los tanques es específico de cada tanque, actualiza la función para usar el nombre de cada tanque en el informe:\n",
    "# Escribe tu nueva función\n",
    "\n",
    "def mission_report(destino, *minutes, **fuel_reservoirs):\n",
    "    inter_report = f\"\"\"\n",
    "    Mision a la {destino}\n",
    "    Total travel time: {sum(minutes)} minutes\n",
    "    Total de combustible : {sum(fuel_reservoirs.values())}\n",
    "    \"\"\"\n",
    "    for tanque_name, galones in fuel_reservoirs.items():\n",
    "        inter_report += f\"{tanque_name} tank --> {galones} galones restantes\\n\"\n",
    "    return inter_report\n",
    "\n",
    "print(mission_report(\"Luna\", 8, 10, 70, interno=120000, externo=100000))"
   ]
  }
 ],
 "metadata": {
  "interpreter": {
   "hash": "2be5faf79681da6f2a61fdfdd5405d65d042280f7fba6178067603e3a2925119"
  },
  "kernelspec": {
   "display_name": "Python 3.10.2 64-bit",
   "language": "python",
   "name": "python3"
  },
  "language_info": {
   "codemirror_mode": {
    "name": "ipython",
    "version": 3
   },
   "file_extension": ".py",
   "mimetype": "text/x-python",
   "name": "python",
   "nbconvert_exporter": "python",
   "pygments_lexer": "ipython3",
   "version": "3.10.2"
  },
  "orig_nbformat": 4
 },
 "nbformat": 4,
 "nbformat_minor": 2
}
